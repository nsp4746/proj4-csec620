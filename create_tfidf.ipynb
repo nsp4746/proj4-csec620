{
 "cells": [
  {
   "cell_type": "code",
   "id": "initial_id",
   "metadata": {
    "collapsed": true,
    "ExecuteTime": {
     "end_time": "2024-11-09T16:52:25.565494Z",
     "start_time": "2024-11-09T16:52:23.085975Z"
    }
   },
   "source": [
    "# Nikhil Patil\n",
    "# CSEC 620 Project 4\n",
    "# NLP and SMS Spam \n",
    "\n",
    "# Imports \n",
    "import pandas as pd\n",
    "import numpy as np\n",
    "import re, warnings, nltk, random\n",
    "from nltk.corpus import stopwords\n",
    "from nltk.tokenize import word_tokenize\n",
    "from nltk.stem.wordnet import WordNetLemmatizer\n",
    "from sklearn.model_selection import train_test_split\n",
    "from sklearn.feature_extraction.text import TfidfVectorizer, TfidfTransformer\n",
    "from sklearn.preprocessing import LabelEncoder\n",
    "from collections import Counter\n",
    "from sklearn.metrics import confusion_matrix, accuracy_score, classification_report\n",
    "import seaborn as sns\n",
    "import matplotlib.pyplot as plt"
   ],
   "outputs": [],
   "execution_count": 1
  },
  {
   "metadata": {
    "ExecuteTime": {
     "end_time": "2024-11-09T16:52:25.904925Z",
     "start_time": "2024-11-09T16:52:25.579498Z"
    }
   },
   "cell_type": "code",
   "source": [
    "warnings.filterwarnings(\"ignore\")\n",
    "nltk.download('stopwords')\n",
    "nltk.download('punkt')\n",
    "nltk.download('wordnet')\n",
    "sms = pd.read_csv('SMSSpamCollection', sep=\"\\t\", names=['label', 'text'])\n",
    "print(\"\\n\\n\",sms.head(), end='\\n\\n')\n",
    "print(sms.info(), end='\\n\\n')\n",
    "print(sms.describe(), end='\\n\\n')\n",
    "print(\"The number of ham (non-spam) messages present are:\",sms['label'].value_counts()[0])\n",
    "print(\"The number of spam messages present are:\",sms['label'].value_counts()[1])"
   ],
   "id": "fa107a5fc7e6e1c2",
   "outputs": [
    {
     "name": "stdout",
     "output_type": "stream",
     "text": [
      "\n",
      "\n",
      "   label                                               text\n",
      "0   ham  Go until jurong point, crazy.. Available only ...\n",
      "1   ham                      Ok lar... Joking wif u oni...\n",
      "2  spam  Free entry in 2 a wkly comp to win FA Cup fina...\n",
      "3   ham  U dun say so early hor... U c already then say...\n",
      "4   ham  Nah I don't think he goes to usf, he lives aro...\n",
      "\n",
      "<class 'pandas.core.frame.DataFrame'>\n",
      "RangeIndex: 5572 entries, 0 to 5571\n",
      "Data columns (total 2 columns):\n",
      " #   Column  Non-Null Count  Dtype \n",
      "---  ------  --------------  ----- \n",
      " 0   label   5572 non-null   object\n",
      " 1   text    5572 non-null   object\n",
      "dtypes: object(2)\n",
      "memory usage: 87.2+ KB\n",
      "None\n",
      "\n",
      "       label                    text\n",
      "count   5572                    5572\n",
      "unique     2                    5169\n",
      "top      ham  Sorry, I'll call later\n",
      "freq    4825                      30\n",
      "\n",
      "The number of ham (non-spam) messages present are: 4825\n",
      "The number of spam messages present are: 747\n"
     ]
    },
    {
     "name": "stderr",
     "output_type": "stream",
     "text": [
      "[nltk_data] Downloading package stopwords to\n",
      "[nltk_data]     C:\\Users\\Nikhil\\AppData\\Roaming\\nltk_data...\n",
      "[nltk_data]   Package stopwords is already up-to-date!\n",
      "[nltk_data] Downloading package punkt to\n",
      "[nltk_data]     C:\\Users\\Nikhil\\AppData\\Roaming\\nltk_data...\n",
      "[nltk_data]   Package punkt is already up-to-date!\n",
      "[nltk_data] Downloading package wordnet to\n",
      "[nltk_data]     C:\\Users\\Nikhil\\AppData\\Roaming\\nltk_data...\n",
      "[nltk_data]   Package wordnet is already up-to-date!\n"
     ]
    }
   ],
   "execution_count": 2
  },
  {
   "metadata": {
    "ExecuteTime": {
     "end_time": "2024-11-09T16:52:26.761129Z",
     "start_time": "2024-11-09T16:52:26.734127Z"
    }
   },
   "cell_type": "code",
   "source": [
    "def tokenize(text):\n",
    "    '''\n",
    "    Simple text tokenizer that is used with the Term Frequency Inverse Document Frequency Vectorizer.\\n \n",
    "    The way this function works is that it takes stop words from the Natural Language Toolkit NTLK[https://www.nltk.org/] \n",
    "    Passes them into a regex and uses WordNetLemmatizer to tokenize the text.\n",
    "    :param text: to be tokenized\n",
    "    :return: text tokens\n",
    "    '''    \n",
    "    stop_words = stopwords.words(\"english\")\n",
    "    lemmatizer = WordNetLemmatizer()\n",
    "\n",
    "    text = re.sub(r\"[^a-zA-Z0-9]\", \" \", text.lower())\n",
    "\n",
    "    tokens = word_tokenize(text)\n",
    "\n",
    "    tokens = [lemmatizer.lemmatize(word) for word in tokens if word not in stop_words]\n",
    "\n",
    "    return tokens"
   ],
   "id": "da65fc2f4c299854",
   "outputs": [],
   "execution_count": 3
  },
  {
   "metadata": {
    "ExecuteTime": {
     "end_time": "2024-11-09T16:52:26.806132Z",
     "start_time": "2024-11-09T16:52:26.796132Z"
    }
   },
   "cell_type": "code",
   "source": "all_words = TfidfVectorizer(tokenizer=tokenize)",
   "id": "e71e4413f139061a",
   "outputs": [],
   "execution_count": 4
  },
  {
   "metadata": {
    "ExecuteTime": {
     "end_time": "2024-11-09T16:52:34.937709Z",
     "start_time": "2024-11-09T16:52:26.848527Z"
    }
   },
   "cell_type": "code",
   "source": [
    "spam_word_counts = all_words.fit_transform(sms.loc[sms['label']=='spam']['text'].values);\n",
    "\n",
    "spam_words = all_words.vocabulary_\n",
    "\n",
    "spam_words_df = pd.DataFrame.from_dict(spam_words, orient='index')\n",
    "spam_words_df.reset_index(inplace=True)\n",
    "spam_words_df.columns = ['word', 'counts']\n",
    "\n",
    "spam_words_df.sort_values(by='counts', ascending=False, inplace=True)\n",
    "spam_words_df.head(15)\n",
    "\n",
    "ham_word_counts = all_words.fit_transform(sms.loc[sms['label']=='ham']['text'].values)\n",
    "\n",
    "ham_words = all_words.vocabulary_\n",
    "\n",
    "ham_words_df = pd.DataFrame.from_dict(ham_words, orient='index')\n",
    "ham_words_df.reset_index(inplace=True)\n",
    "ham_words_df.columns = ['word', 'counts']\n",
    "\n",
    "ham_words_df.sort_values(by='counts', ascending=False, inplace=True)\n",
    "ham_words_df.head(15)"
   ],
   "id": "a308e29afffc8827",
   "outputs": [
    {
     "data": {
      "text/plain": [
       "           word  counts\n",
       "3875      zyada    6352\n",
       "5265       zoom    6351\n",
       "3902  zogtorius    6350\n",
       "2341        zoe    6349\n",
       "3881     zindgi    6348\n",
       "3456      zhong    6347\n",
       "6117       zero    6346\n",
       "5636    zealand    6345\n",
       "2147      zaher    6344\n",
       "5099        zac    6343\n",
       "1155          z    6342\n",
       "4284       yupz    6341\n",
       "184         yup    6340\n",
       "5245       yuou    6339\n",
       "3012        yuo    6338"
      ],
      "text/html": [
       "<div>\n",
       "<style scoped>\n",
       "    .dataframe tbody tr th:only-of-type {\n",
       "        vertical-align: middle;\n",
       "    }\n",
       "\n",
       "    .dataframe tbody tr th {\n",
       "        vertical-align: top;\n",
       "    }\n",
       "\n",
       "    .dataframe thead th {\n",
       "        text-align: right;\n",
       "    }\n",
       "</style>\n",
       "<table border=\"1\" class=\"dataframe\">\n",
       "  <thead>\n",
       "    <tr style=\"text-align: right;\">\n",
       "      <th></th>\n",
       "      <th>word</th>\n",
       "      <th>counts</th>\n",
       "    </tr>\n",
       "  </thead>\n",
       "  <tbody>\n",
       "    <tr>\n",
       "      <th>3875</th>\n",
       "      <td>zyada</td>\n",
       "      <td>6352</td>\n",
       "    </tr>\n",
       "    <tr>\n",
       "      <th>5265</th>\n",
       "      <td>zoom</td>\n",
       "      <td>6351</td>\n",
       "    </tr>\n",
       "    <tr>\n",
       "      <th>3902</th>\n",
       "      <td>zogtorius</td>\n",
       "      <td>6350</td>\n",
       "    </tr>\n",
       "    <tr>\n",
       "      <th>2341</th>\n",
       "      <td>zoe</td>\n",
       "      <td>6349</td>\n",
       "    </tr>\n",
       "    <tr>\n",
       "      <th>3881</th>\n",
       "      <td>zindgi</td>\n",
       "      <td>6348</td>\n",
       "    </tr>\n",
       "    <tr>\n",
       "      <th>3456</th>\n",
       "      <td>zhong</td>\n",
       "      <td>6347</td>\n",
       "    </tr>\n",
       "    <tr>\n",
       "      <th>6117</th>\n",
       "      <td>zero</td>\n",
       "      <td>6346</td>\n",
       "    </tr>\n",
       "    <tr>\n",
       "      <th>5636</th>\n",
       "      <td>zealand</td>\n",
       "      <td>6345</td>\n",
       "    </tr>\n",
       "    <tr>\n",
       "      <th>2147</th>\n",
       "      <td>zaher</td>\n",
       "      <td>6344</td>\n",
       "    </tr>\n",
       "    <tr>\n",
       "      <th>5099</th>\n",
       "      <td>zac</td>\n",
       "      <td>6343</td>\n",
       "    </tr>\n",
       "    <tr>\n",
       "      <th>1155</th>\n",
       "      <td>z</td>\n",
       "      <td>6342</td>\n",
       "    </tr>\n",
       "    <tr>\n",
       "      <th>4284</th>\n",
       "      <td>yupz</td>\n",
       "      <td>6341</td>\n",
       "    </tr>\n",
       "    <tr>\n",
       "      <th>184</th>\n",
       "      <td>yup</td>\n",
       "      <td>6340</td>\n",
       "    </tr>\n",
       "    <tr>\n",
       "      <th>5245</th>\n",
       "      <td>yuou</td>\n",
       "      <td>6339</td>\n",
       "    </tr>\n",
       "    <tr>\n",
       "      <th>3012</th>\n",
       "      <td>yuo</td>\n",
       "      <td>6338</td>\n",
       "    </tr>\n",
       "  </tbody>\n",
       "</table>\n",
       "</div>"
      ]
     },
     "execution_count": 5,
     "metadata": {},
     "output_type": "execute_result"
    }
   ],
   "execution_count": 5
  },
  {
   "metadata": {
    "ExecuteTime": {
     "end_time": "2024-11-09T16:52:34.999709Z",
     "start_time": "2024-11-09T16:52:34.971711Z"
    }
   },
   "cell_type": "code",
   "source": [
    "tfidf = TfidfTransformer(smooth_idf=False)\n",
    "\n",
    "spam_word_weights = tfidf.fit_transform(spam_word_counts)\n",
    "top_idf_indices = tfidf.idf_.argsort()[:-5:-1]\n",
    "ind_to_word = all_words.get_feature_names_out()\n",
    "print('The most significant words for spam messages are:')\n",
    "for ind in top_idf_indices:\n",
    "    print(tfidf.idf_[ind], ind_to_word[ind])\n",
    "    \n",
    "ham_word_weights = tfidf.fit_transform(ham_word_counts)\n",
    "top_idf_indices = tfidf.idf_.argsort()[:-5:-1]\n",
    "ind_to_word = all_words.get_feature_names_out()\n",
    "print('The most significant words for ham messages are:')\n",
    "for ind in top_idf_indices:\n",
    "    print(tfidf.idf_[ind], ind_to_word[ind])"
   ],
   "id": "2581df6dc935c474",
   "outputs": [
    {
     "name": "stdout",
     "output_type": "stream",
     "text": [
      "The most significant words for spam messages are:\n",
      "7.616065185132817 horse\n",
      "7.616065185132817 horrible\n",
      "7.616065185132817 howard\n",
      "7.616065185132817 housing\n",
      "The most significant words for ham messages are:\n",
      "9.481566013773087 000pes\n",
      "9.481566013773087 1405\n",
      "9.481566013773087 15pm\n",
      "9.481566013773087 16\n"
     ]
    }
   ],
   "execution_count": 6
  },
  {
   "metadata": {
    "ExecuteTime": {
     "end_time": "2024-11-09T16:52:35.108231Z",
     "start_time": "2024-11-09T16:52:35.085235Z"
    }
   },
   "cell_type": "code",
   "source": [
    "class KMeans:\n",
    "    \"\"\"\n",
    "    A simple K-means clustering implementation.\n",
    "\n",
    "    This class implements the K-means clustering algorithm to group data points into `k` clusters\n",
    "    based on their distance to the cluster centroids. The centroids are initialized randomly, and\n",
    "    the algorithm iterates to minimize the within-cluster variance.\n",
    "\n",
    "    Attributes:\n",
    "        k (int): The number of clusters to form.\n",
    "        max_iters (int): The maximum number of iterations for the algorithm to converge. Default is 100.\n",
    "        centroids (np.ndarray): The coordinates of the cluster centroids.\n",
    "        clusters (np.ndarray): The cluster labels for each data point.\n",
    "    \n",
    "    Methods:\n",
    "        euclidean_distance(point1, point2): Computes the Euclidean distance between two data points.\n",
    "        fit(X): Fits the K-means model to the data by determining the cluster centroids and assigning data points to clusters.\n",
    "        predict(X): Predicts the nearest cluster for a new set of data points based on the fitted centroids.\n",
    "        create_clusters(X): Assigns data points to the nearest cluster based on the current centroids.\n",
    "        calculate_centroids(X): Calculates the new centroids based on the data points in each cluster.\n",
    "    \"\"\"\n",
    "\n",
    "    def __init__(self, k=2, max_iters=100):\n",
    "        self.k = k\n",
    "        self.max_iters = max_iters\n",
    "        self.centroids = None\n",
    "        self.clusters = None\n",
    "\n",
    "    def euclidean_distance(self, point1, point2):\n",
    "        return np.sqrt(np.sum((point1 - point2) ** 2))\n",
    "\n",
    "    def fit(self, X):\n",
    "\n",
    "        np.random.seed(88) \n",
    "        random_indices = np.random.permutation(X.shape[0])[:self.k]\n",
    "        self.centroids = X[random_indices]\n",
    "\n",
    "        for i in range(self.max_iters):\n",
    "            self.clusters = self.create_clusters(X)\n",
    "            old_centroids = self.centroids\n",
    "            self.centroids = self.calculate_centroids(X)\n",
    "            if np.all(old_centroids == self.centroids):\n",
    "                break\n",
    "\n",
    "    def create_clusters(self, X):\n",
    "        clusters = [[] for _ in range(self.k)]\n",
    "        for idx, point in enumerate(X):\n",
    "            closest_centroid = np.argmin([self.euclidean_distance(point, centroid) for centroid in self.centroids])\n",
    "            clusters[closest_centroid].append(idx)\n",
    "        return clusters\n",
    "\n",
    "    def calculate_centroids(self, X):\n",
    "        centroids = np.zeros((self.k, X.shape[1]))\n",
    "        for cluster_idx, cluster in enumerate(self.clusters):\n",
    "            if cluster:  # Avoid empty clusters\n",
    "                centroids[cluster_idx] = np.mean(X[cluster], axis=0)\n",
    "        return centroids\n",
    "\n",
    "    def predict(self, X):\n",
    "        return np.array([np.argmin([self.euclidean_distance(x, centroid) for centroid in self.centroids]) for x in X])"
   ],
   "id": "62b4a79645f3618a",
   "outputs": [],
   "execution_count": 7
  },
  {
   "metadata": {
    "ExecuteTime": {
     "end_time": "2024-11-09T16:52:35.216745Z",
     "start_time": "2024-11-09T16:52:35.199746Z"
    }
   },
   "cell_type": "code",
   "source": [
    "class KNearestNeighbors:\n",
    "    '''\n",
    "    K-Nearest Neighbors Implementation\n",
    "\n",
    "    Parameters: \n",
    "    k (int) : Number of components \n",
    "\n",
    "    Methods:\n",
    "    fit(X, y): Fit the model using X as training data and y as target values\n",
    "    predict(X): Predict the class labels for the provided data\n",
    "    _predict(x): Predict the class label for a single data point\n",
    "\n",
    "    '''\n",
    "    def __init__(self, k=3):\n",
    "        self.k = k\n",
    "    \n",
    "    def fit(self, X, y):\n",
    "        self.X_train = X\n",
    "        self.y_train = y\n",
    "    \n",
    "    def predict(self, X):\n",
    "        predictions = [self._predict(x) for x in X]\n",
    "        return np.array(predictions)\n",
    "    \n",
    "    def _predict(self, x):\n",
    "        distances = np.linalg.norm(self.X_train - x, axis=1)\n",
    "        \n",
    "        k_indices = np.argsort(distances)[:self.k]\n",
    "        k_nearest_labels = [self.y_train[i] for i in k_indices]\n",
    "        \n",
    "        most_common = Counter(k_nearest_labels).most_common(1)\n",
    "        return most_common[0][0]"
   ],
   "id": "ee56aa980241926b",
   "outputs": [],
   "execution_count": 8
  },
  {
   "metadata": {
    "ExecuteTime": {
     "end_time": "2024-11-09T16:52:38.977397Z",
     "start_time": "2024-11-09T16:52:35.236260Z"
    }
   },
   "cell_type": "code",
   "source": [
    "# data preprocessing \n",
    "\n",
    "word_counts = all_words.fit_transform(sms['text'].values)\n",
    "\n",
    "sms['label'] = sms['label'].map({'spam': 1, 'ham': 0})\n",
    "y = sms['label'].values\n",
    "\n",
    "tfidf_weights = tfidf.fit_transform(word_counts)\n",
    "\n",
    "X = tfidf_weights.toarray()"
   ],
   "id": "543d46208a829fda",
   "outputs": [],
   "execution_count": 9
  },
  {
   "metadata": {
    "ExecuteTime": {
     "end_time": "2024-11-09T17:01:06.627015Z",
     "start_time": "2024-11-09T16:57:03.520282Z"
    }
   },
   "cell_type": "code",
   "source": [
    "# K Nearest Neighbors \n",
    "\n",
    "X_train, X_test, y_train, y_test = train_test_split(X, y, train_size=0.8, random_state=random.randint(1,100))\n",
    "\n",
    "label_encoder = LabelEncoder()\n",
    "y_encoded = label_encoder.fit_transform(y)\n",
    "y_test_encoded = label_encoder.fit_transform(y_test)\n",
    "\n",
    "\n",
    "knn = KNearestNeighbors(k=3)\n",
    "knn.fit(X_train, y_encoded)\n",
    "\n",
    "predictions = knn.predict(X_test)\n",
    "\n",
    "accuracy = np.sum(predictions == y_test) / len(y_test)\n",
    "print(f\"KNN Model Accuracy:{accuracy * 100:.2f}%\")\n",
    "\n",
    "print(\"Classification Report for K-Nearest Neighbors (KNN):\")\n",
    "print(classification_report(y_test_encoded, predictions, target_names=['ham', 'spam']))\n",
    "\n",
    "conf_matrix = confusion_matrix(y_test, predictions)\n",
    "conf_matrix_df = pd.DataFrame(conf_matrix, index=['Actual Ham', 'Actual Spam'], columns=['Predicted Ham', 'Predicted Spam'])\n",
    "print(\"Confusion Matrix:\")\n",
    "print(conf_matrix_df)"
   ],
   "id": "32099ede2b8d30b6",
   "outputs": [
    {
     "name": "stdout",
     "output_type": "stream",
     "text": [
      "KNN Model Accuracy:66.82%\n",
      "Classification Report for K-Nearest Neighbors (KNN):\n",
      "              precision    recall  f1-score   support\n",
      "\n",
      "         ham       0.86      0.74      0.79       966\n",
      "        spam       0.11      0.20      0.14       149\n",
      "\n",
      "    accuracy                           0.67      1115\n",
      "   macro avg       0.48      0.47      0.47      1115\n",
      "weighted avg       0.76      0.67      0.71      1115\n",
      "\n",
      "Confusion Matrix:\n",
      "             Predicted Ham  Predicted Spam\n",
      "Actual Ham             715             251\n",
      "Actual Spam            119              30\n"
     ]
    }
   ],
   "execution_count": 12
  },
  {
   "metadata": {
    "ExecuteTime": {
     "end_time": "2024-11-09T16:56:57.200756Z",
     "start_time": "2024-11-09T16:56:43.026521Z"
    }
   },
   "cell_type": "code",
   "source": [
    "# K-means \n",
    "k = 4\n",
    "kmeans = KMeans(k=k)\n",
    "kmeans.fit(X)\n",
    "\n",
    "predicted_clusters = kmeans.predict(X)\n",
    "\n",
    "cluster_to_label = {}\n",
    "\n",
    "for cluster in range(k):\n",
    "    cluster_indices = np.where(predicted_clusters == cluster)[0]\n",
    "    \n",
    "    if len(cluster_indices) > 0: \n",
    "        most_common_label = np.bincount(y[cluster_indices]).argmax()\n",
    "        cluster_to_label[cluster] = most_common_label\n",
    "\n",
    "mapped_predictions = np.array([cluster_to_label[cluster] for cluster in predicted_clusters])\n",
    "accuracy = accuracy_score(y, mapped_predictions)\n",
    "print(f\"K-means Clustering Accuracy: {accuracy * 100:.2f}%\")\n",
    "print(\"Classification Report for K-Means:\")\n",
    "print(classification_report(y, mapped_predictions, target_names=['ham', 'spam']))\n",
    "conf_matrix = confusion_matrix(y, predicted_clusters)\n",
    "\n",
    "plt.figure(figsize=(6, 4))\n",
    "sns.heatmap(conf_matrix, annot=True, fmt=\"d\", cmap=\"Blues\", xticklabels=['Cluster 0', 'Cluster 1','Cluster 2','Cluster 3'], yticklabels=['Actual Ham', 'Actual Spam'])\n",
    "plt.xlabel(\"Predicted Clusters\")\n",
    "plt.ylabel(\"Actual Labels\")\n",
    "plt.title(\"Confusion Matrix for K-means Clustering\")\n",
    "plt.show()"
   ],
   "id": "2014667156a836ac",
   "outputs": [
    {
     "name": "stdout",
     "output_type": "stream",
     "text": [
      "K-means Clustering Accuracy: 94.51%\n",
      "Classification Report for K-Means:\n",
      "              precision    recall  f1-score   support\n",
      "\n",
      "         ham       0.95      0.99      0.97      4825\n",
      "        spam       0.88      0.68      0.77       747\n",
      "\n",
      "    accuracy                           0.95      5572\n",
      "   macro avg       0.92      0.83      0.87      5572\n",
      "weighted avg       0.94      0.95      0.94      5572\n",
      "\n"
     ]
    },
    {
     "data": {
      "text/plain": [
       "<Figure size 600x400 with 2 Axes>"
      ],
      "image/png": "[encoded data removed]"
     },
     "metadata": {},
     "output_type": "display_data"
    }
   ],
   "execution_count": 11
  },
  {
   "metadata": {
    "ExecuteTime": {
     "end_time": "2024-11-09T16:56:57.263267Z",
     "start_time": "2024-11-09T16:56:57.249268Z"
    }
   },
   "cell_type": "code",
   "source": "",
   "id": "6deeb55d201c9fd5",
   "outputs": [],
   "execution_count": null
  }
 ],
 "metadata": {
  "kernelspec": {
   "display_name": "Python 3",
   "language": "python",
   "name": "python3"
  },
  "language_info": {
   "codemirror_mode": {
    "name": "ipython",
    "version": 2
   },
   "file_extension": ".py",
   "mimetype": "text/x-python",
   "name": "python",
   "nbconvert_exporter": "python",
   "pygments_lexer": "ipython2",
   "version": "2.7.6"
  }
 },
 "nbformat": 4,
 "nbformat_minor": 5
}
